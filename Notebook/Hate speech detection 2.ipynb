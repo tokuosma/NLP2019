{
 "cells": [
  {
   "cell_type": "markdown",
   "metadata": {},
   "source": [
    "# Project #15: Twitter hate speech detection 2"
   ]
  },
  {
   "cell_type": "markdown",
   "metadata": {},
   "source": [
    "## 1. Introduction\n",
    "\n",
    "\n",
    "\n",
    "The goal of our project is to find efficient methods for identifying hate speech on twitter. Our aim is to find a set of features that could be used to identify hate speech content.\n",
    "\n",
    "\n",
    "\n",
    "For our analysis, we have gathered two data sets. The first data set was collected by searching for tweets containing specific hashtags (topics). The second data set was collected from active twitter users that frequently posted hate speech content. Both data sets were obtained using Twitter API and the search-tweets pytho library."
   ]
  },
  {
   "cell_type": "code",
   "execution_count": null,
   "metadata": {},
   "outputs": [],
   "source": [
    "# Standard libraries\n",
    "import sys; sys.path.insert(0, '..') # add parent folder to path\n",
    "\n",
    "# Custom scripts\n",
    "import liwc_empath\n",
    "import util"
   ]
  },
  {
   "cell_type": "markdown",
   "metadata": {},
   "source": [
    "## 2. Data sets\n",
    "\n",
    "### Data-set 1: Hate speech hash tags\n",
    "The first data set was collected by searching for tweets containing specific hashtags that were provided to us in the project assignment. The hash tags were: #terrorist, #radicalist, #islamophobia, #extremist, and #bombing. \n"
   ]
  },
  {
   "cell_type": "code",
   "execution_count": null,
   "metadata": {},
   "outputs": [],
   "source": [
    "# Read labeled tweets with specific hash tags\n",
    "tweets_hashtag = {}\n",
    "tweets_hashtag[\"bombing\"] = util.read_tweets([\"../Data/tweets_bombing_labeled.json\"])\n",
    "tweets_hashtag[\"extremist\"] = util.read_tweets([\"../Data/tweets_extremist_labeled.json\"])\n",
    "tweets_hashtag[\"islamophobia\"] = util.read_tweets([\"../Data/tweets_islamophobia_labeled.json\"])\n",
    "tweets_hashtag[\"radicalist\"] = util.read_tweets([\"../Data/tweets_radicalist_labeled.json\"])\n",
    "tweets_hashtag[\"terrorist\"] = util.read_tweets([\"../Data/tweets_terrorist_labeled.json\"])\n",
    "\n",
    "print('Hashtag summaries: ')\n",
    "for key in tweets_hashtag.keys():\n",
    "    util.print_hashtag_summary(key, tweets_hashtag[key])\n",
    "\n",
    "# Read the combined labeled data set\n",
    "labeled_tweets = util.read_tweets([\"../Data/tweets_labeled_combined.json\"])\n",
    "print('All labeled tweets:')\n",
    "util.print_hashtag_summary('ALL', labeled_tweets)"
   ]
  },
  {
   "cell_type": "markdown",
   "metadata": {},
   "source": [
    "## 3. Characterization of the labeled data set"
   ]
  },
  {
   "cell_type": "markdown",
   "metadata": {},
   "source": [
    "### 3.1 Sentiment analysis\n",
    "TEXT HERE"
   ]
  },
  {
   "cell_type": "code",
   "execution_count": null,
   "metadata": {},
   "outputs": [],
   "source": [
    "# CODE HERE"
   ]
  },
  {
   "cell_type": "markdown",
   "metadata": {},
   "source": [
    "### 3.2 LIWC Features\n",
    "TEXT HERE"
   ]
  },
  {
   "cell_type": "code",
   "execution_count": null,
   "metadata": {},
   "outputs": [],
   "source": [
    "# CODE HERE"
   ]
  },
  {
   "cell_type": "markdown",
   "metadata": {},
   "source": [
    "### 3.3 Emoticon usage\n",
    "TEXT HERE"
   ]
  },
  {
   "cell_type": "code",
   "execution_count": null,
   "metadata": {},
   "outputs": [],
   "source": [
    "# CODE HERE"
   ]
  },
  {
   "cell_type": "markdown",
   "metadata": {},
   "source": [
    "### 3.4 Named entities\n",
    "TEXT HERE"
   ]
  },
  {
   "cell_type": "code",
   "execution_count": null,
   "metadata": {},
   "outputs": [],
   "source": [
    "# CODE HERE"
   ]
  },
  {
   "cell_type": "markdown",
   "metadata": {},
   "source": [
    "### 3.5 Named phrases\n",
    "TEXT HERE"
   ]
  },
  {
   "cell_type": "markdown",
   "metadata": {},
   "source": [
    "## 4. Radicalization of active hate speakers"
   ]
  },
  {
   "cell_type": "code",
   "execution_count": null,
   "metadata": {},
   "outputs": [],
   "source": [
    "# CODE HERE"
   ]
  }
 ],
 "metadata": {
  "kernelspec": {
   "display_name": "Python 3",
   "language": "python",
   "name": "python3"
  },
  "language_info": {
   "codemirror_mode": {
    "name": "ipython",
    "version": 3
   },
   "file_extension": ".py",
   "mimetype": "text/x-python",
   "name": "python",
   "nbconvert_exporter": "python",
   "pygments_lexer": "ipython3",
   "version": "3.8.0"
  }
 },
 "nbformat": 4,
 "nbformat_minor": 2
}
